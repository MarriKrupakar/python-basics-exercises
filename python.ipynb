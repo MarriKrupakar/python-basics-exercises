{
 "cells": [
  {
   "cell_type": "markdown",
   "id": "2890ea33-006e-456c-bf22-5dc606251499",
   "metadata": {},
   "source": [
    "# Prime Numbers"
   ]
  },
  {
   "cell_type": "code",
   "execution_count": 2,
   "id": "e5448fb2-5eac-4832-9f11-def7d69900fc",
   "metadata": {},
   "outputs": [
    {
     "name": "stdin",
     "output_type": "stream",
     "text": [
      "Enter a number to check if it is prime:  45\n"
     ]
    },
    {
     "name": "stdout",
     "output_type": "stream",
     "text": [
      "45 is not a prime number.\n"
     ]
    }
   ],
   "source": [
    "def is_prime(n):\n",
    "    if n <= 1:\n",
    "        return False\n",
    "    i = 2\n",
    "    while i * i <= n:\n",
    "        if n % i == 0:\n",
    "            return False\n",
    "        i += 1\n",
    "    return True\n",
    "try:\n",
    "    number = int(input(\"Enter a number to check if it is prime: \"))\n",
    "    result = is_prime(number)\n",
    "    print(f\"{number} is {'a prime' if result else 'not a prime'} number.\")\n",
    "except ValueError:\n",
    "    print(\"Please enter a valid integer.\")\n"
   ]
  },
  {
   "cell_type": "markdown",
   "id": "6c59e08a-1ad6-45a1-a46b-9d8f7e35edea",
   "metadata": {},
   "source": [
    "# Product of Random Numbers"
   ]
  },
  {
   "cell_type": "code",
   "execution_count": 6,
   "id": "50cc3d11-35ee-450c-a45d-b66ec4e78472",
   "metadata": {},
   "outputs": [
    {
     "name": "stdin",
     "output_type": "stream",
     "text": [
      "What is 10 × 6?  6\n"
     ]
    },
    {
     "name": "stdout",
     "output_type": "stream",
     "text": [
      " Incorrect. The right answer is 60.\n",
      "\n"
     ]
    },
    {
     "name": "stdin",
     "output_type": "stream",
     "text": [
      "What is 4 × 6?  24\n"
     ]
    },
    {
     "name": "stdout",
     "output_type": "stream",
     "text": [
      " Correct!\n",
      "\n"
     ]
    },
    {
     "name": "stdin",
     "output_type": "stream",
     "text": [
      "What is 2 × 6?  8\n"
     ]
    },
    {
     "name": "stdout",
     "output_type": "stream",
     "text": [
      " Incorrect. The right answer is 12.\n",
      "\n",
      "Your final score: 1/3\n"
     ]
    }
   ],
   "source": [
    "import random\n",
    "\n",
    "def multiplication_quiz():\n",
    "    score = 0\n",
    "    for _ in range(3):  # Ask 3 questions\n",
    "        num1 = random.randint(1, 10)\n",
    "        num2 = random.randint(1, 10)\n",
    "        correct_product = num1 * num2\n",
    "        try:\n",
    "            user_answer = int(input(f\"What is {num1} × {num2}? \"))\n",
    "            if user_answer == correct_product:\n",
    "                print(\" Correct!\\n\")\n",
    "                score += 1\n",
    "            else:\n",
    "                print(f\" Incorrect. The right answer is {correct_product}.\\n\")\n",
    "        except ValueError:\n",
    "            print(\" Please enter a valid number.\\n\")\n",
    "    print(f\"Your final score: {score}/3\")\n",
    "\n",
    "multiplication_quiz()\n"
   ]
  },
  {
   "cell_type": "markdown",
   "id": "b4efc570-e0dc-4166-b859-bed66de1d185",
   "metadata": {},
   "source": [
    "# Squares of Even/Odd Numbers"
   ]
  },
  {
   "cell_type": "code",
   "execution_count": 8,
   "id": "31e6463e-7971-46b1-96cd-7bc9b077467b",
   "metadata": {},
   "outputs": [
    {
     "name": "stdout",
     "output_type": "stream",
     "text": [
      "Squares of even numbers from 100 to 200:\n",
      "\n",
      "100 squared is 10000\n",
      "102 squared is 10404\n",
      "104 squared is 10816\n",
      "106 squared is 11236\n",
      "108 squared is 11664\n",
      "110 squared is 12100\n",
      "112 squared is 12544\n",
      "114 squared is 12996\n",
      "116 squared is 13456\n",
      "118 squared is 13924\n",
      "120 squared is 14400\n",
      "122 squared is 14884\n",
      "124 squared is 15376\n",
      "126 squared is 15876\n",
      "128 squared is 16384\n",
      "130 squared is 16900\n",
      "132 squared is 17424\n",
      "134 squared is 17956\n",
      "136 squared is 18496\n",
      "138 squared is 19044\n",
      "140 squared is 19600\n",
      "142 squared is 20164\n",
      "144 squared is 20736\n",
      "146 squared is 21316\n",
      "148 squared is 21904\n",
      "150 squared is 22500\n",
      "152 squared is 23104\n",
      "154 squared is 23716\n",
      "156 squared is 24336\n",
      "158 squared is 24964\n",
      "160 squared is 25600\n",
      "162 squared is 26244\n",
      "164 squared is 26896\n",
      "166 squared is 27556\n",
      "168 squared is 28224\n",
      "170 squared is 28900\n",
      "172 squared is 29584\n",
      "174 squared is 30276\n",
      "176 squared is 30976\n",
      "178 squared is 31684\n",
      "180 squared is 32400\n",
      "182 squared is 33124\n",
      "184 squared is 33856\n",
      "186 squared is 34596\n",
      "188 squared is 35344\n",
      "190 squared is 36100\n",
      "192 squared is 36864\n",
      "194 squared is 37636\n",
      "196 squared is 38416\n",
      "198 squared is 39204\n",
      "200 squared is 40000\n"
     ]
    }
   ],
   "source": [
    "print(\"Squares of even numbers from 100 to 200:\\n\")\n",
    "\n",
    "even_numbers = [n for n in range(100, 201, 2)]\n",
    "squares = [(n, n**2) for n in even_numbers]\n",
    "\n",
    "for number, square in squares:\n",
    "    print(f\"{number} squared is {square}\")\n"
   ]
  },
  {
   "cell_type": "markdown",
   "id": "28218af3-840c-4c2d-a65b-2038ce604851",
   "metadata": {},
   "source": [
    "# Word counter"
   ]
  },
  {
   "cell_type": "code",
   "execution_count": 14,
   "id": "52a69f7d-a3f3-47e3-8d3f-7c5b6395f7d8",
   "metadata": {},
   "outputs": [
    {
     "name": "stdout",
     "output_type": "stream",
     "text": [
      "Word Frequencies:\n",
      "\n",
      "a: 1\n",
      "be: 1\n",
      "counter: 1\n",
      "demonstrate: 1\n",
      "is: 1\n",
      "sample: 1\n",
      "text: 2\n",
      "the: 1\n",
      "this: 2\n",
      "to: 1\n",
      "used: 1\n",
      "will: 1\n",
      "word: 1\n"
     ]
    }
   ],
   "source": [
    "import re\n",
    "\n",
    "def word_counter(text):\n",
    "    words = re.findall(r'\\b\\w+\\b', text.lower())\n",
    "    word_count = {}\n",
    "    for word in words:\n",
    "        word_count[word] = word_count.get(word, 0) + 1\n",
    "    return word_count\n",
    "\n",
    "input_text = \"This is a sample text. This text will be used to demonstrate the word counter.\"\n",
    "result = word_counter(input_text)\n",
    "\n",
    "print(\"Word Frequencies:\\n\")\n",
    "for word in sorted(result):\n",
    "    print(f\"{word}: {result[word]}\")\n"
   ]
  },
  {
   "cell_type": "markdown",
   "id": "99225692-893b-4747-8d4b-220c81f20f0a",
   "metadata": {},
   "source": [
    "# Check for Palindrome"
   ]
  },
  {
   "cell_type": "code",
   "execution_count": 12,
   "id": "645ca04b-24d3-4ef6-9c3d-e05904e611cf",
   "metadata": {},
   "outputs": [
    {
     "name": "stdin",
     "output_type": "stream",
     "text": [
      "Enter a string to check if it's a palindrome:  madam\n"
     ]
    },
    {
     "name": "stdout",
     "output_type": "stream",
     "text": [
      "'madam' is a palindrome.\n"
     ]
    }
   ],
   "source": [
    "import re\n",
    "\n",
    "def is_palindrome(text):\n",
    "    cleaned = re.sub(r'[^A-Za-z0-9]', '', text).lower()\n",
    "    return cleaned == cleaned[::-1]\n",
    "\n",
    "def display_result(text):\n",
    "    if is_palindrome(text):\n",
    "        print(\"'{}' is a palindrome.\".format(text))\n",
    "    else:\n",
    "        print(\"'{}' is not a palindrome.\".format(text))\n",
    "\n",
    "user_input = input(\"Enter a string to check if it's a palindrome: \")\n",
    "display_result(user_input)\n"
   ]
  },
  {
   "cell_type": "code",
   "execution_count": null,
   "id": "9b42712f-74f8-4e67-8155-41fb1671f72d",
   "metadata": {},
   "outputs": [],
   "source": []
  }
 ],
 "metadata": {
  "kernelspec": {
   "display_name": "Python [conda env:base] *",
   "language": "python",
   "name": "conda-base-py"
  },
  "language_info": {
   "codemirror_mode": {
    "name": "ipython",
    "version": 3
   },
   "file_extension": ".py",
   "mimetype": "text/x-python",
   "name": "python",
   "nbconvert_exporter": "python",
   "pygments_lexer": "ipython3",
   "version": "3.11.5"
  }
 },
 "nbformat": 4,
 "nbformat_minor": 5
}
